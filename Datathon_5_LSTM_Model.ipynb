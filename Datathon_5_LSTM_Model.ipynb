{
  "nbformat": 4,
  "nbformat_minor": 0,
  "metadata": {
    "colab": {
      "provenance": [],
      "include_colab_link": true
    },
    "kernelspec": {
      "name": "python3",
      "display_name": "Python 3"
    },
    "language_info": {
      "name": "python"
    },
    "accelerator": "TPU"
  },
  "cells": [
    {
      "cell_type": "markdown",
      "metadata": {
        "id": "view-in-github",
        "colab_type": "text"
      },
      "source": [
        "<a href=\"https://colab.research.google.com/github/kcaat/Rpackage/blob/main/Datathon_5_LSTM_Model.ipynb\" target=\"_parent\"><img src=\"https://colab.research.google.com/assets/colab-badge.svg\" alt=\"Open In Colab\"/></a>"
      ]
    },
    {
      "cell_type": "code",
      "execution_count": 1,
      "metadata": {
        "id": "YDgcNd0fSD19"
      },
      "outputs": [],
      "source": [
        "import pandas as pd\n",
        "import numpy as np\n",
        "import warnings\n",
        "warnings.filterwarnings('ignore')"
      ]
    },
    {
      "cell_type": "code",
      "source": [
        "from google.colab import drive\n",
        "drive.mount('/content/drive')"
      ],
      "metadata": {
        "colab": {
          "base_uri": "https://localhost:8080/"
        },
        "id": "J7fyI8PoSWC4",
        "outputId": "b02867a0-1533-4652-99a6-c1da12a4bd4e"
      },
      "execution_count": null,
      "outputs": [
        {
          "output_type": "stream",
          "name": "stdout",
          "text": [
            "Drive already mounted at /content/drive; to attempt to forcibly remount, call drive.mount(\"/content/drive\", force_remount=True).\n"
          ]
        }
      ]
    },
    {
      "cell_type": "code",
      "source": [
        "# Load in data\n",
        "# data = pd.read_csv('/content/drive/MyDrive/Machine Learning /Datathon #5/mhealth.csv')\n",
        "data = pd.read_csv('mhealth.csv')\n",
        "\n",
        "# drop subject 9 bc their distribution is different from the others\n",
        "data = data[data['subject'] != 'subject9']\n",
        "\n",
        "print(data.shape)\n",
        "data.head()"
      ],
      "metadata": {
        "colab": {
          "base_uri": "https://localhost:8080/",
          "height": 224
        },
        "id": "FFpB2eXAShmi",
        "outputId": "1902b038-2e42-4119-89e8-4ddd8927ea9b"
      },
      "execution_count": 2,
      "outputs": [
        {
          "output_type": "stream",
          "name": "stdout",
          "text": [
            "(982273, 14)\n"
          ]
        },
        {
          "output_type": "execute_result",
          "data": {
            "text/plain": [
              "      alx     aly      alz       glx      gly      glz     arx     ary  \\\n",
              "0  2.1849 -9.6967  0.63077  0.103900 -0.84053 -0.68762 -8.6499 -4.5781   \n",
              "1  2.3876 -9.5080  0.68389  0.085343 -0.83865 -0.68369 -8.6275 -4.3198   \n",
              "2  2.4086 -9.5674  0.68113  0.085343 -0.83865 -0.68369 -8.5055 -4.2772   \n",
              "3  2.1814 -9.4301  0.55031  0.085343 -0.83865 -0.68369 -8.6279 -4.3163   \n",
              "4  2.4173 -9.3889  0.71098  0.085343 -0.83865 -0.68369 -8.7008 -4.1459   \n",
              "\n",
              "        arz      grx     gry       grz  Activity   subject  \n",
              "0  0.187760 -0.44902 -1.0103  0.034483         0  subject1  \n",
              "1  0.023595 -0.44902 -1.0103  0.034483         0  subject1  \n",
              "2  0.275720 -0.44902 -1.0103  0.034483         0  subject1  \n",
              "3  0.367520 -0.45686 -1.0082  0.025862         0  subject1  \n",
              "4  0.407290 -0.45686 -1.0082  0.025862         0  subject1  "
            ],
            "text/html": [
              "\n",
              "  <div id=\"df-91620048-0b6a-48af-99ed-0a2ac6607a83\" class=\"colab-df-container\">\n",
              "    <div>\n",
              "<style scoped>\n",
              "    .dataframe tbody tr th:only-of-type {\n",
              "        vertical-align: middle;\n",
              "    }\n",
              "\n",
              "    .dataframe tbody tr th {\n",
              "        vertical-align: top;\n",
              "    }\n",
              "\n",
              "    .dataframe thead th {\n",
              "        text-align: right;\n",
              "    }\n",
              "</style>\n",
              "<table border=\"1\" class=\"dataframe\">\n",
              "  <thead>\n",
              "    <tr style=\"text-align: right;\">\n",
              "      <th></th>\n",
              "      <th>alx</th>\n",
              "      <th>aly</th>\n",
              "      <th>alz</th>\n",
              "      <th>glx</th>\n",
              "      <th>gly</th>\n",
              "      <th>glz</th>\n",
              "      <th>arx</th>\n",
              "      <th>ary</th>\n",
              "      <th>arz</th>\n",
              "      <th>grx</th>\n",
              "      <th>gry</th>\n",
              "      <th>grz</th>\n",
              "      <th>Activity</th>\n",
              "      <th>subject</th>\n",
              "    </tr>\n",
              "  </thead>\n",
              "  <tbody>\n",
              "    <tr>\n",
              "      <th>0</th>\n",
              "      <td>2.1849</td>\n",
              "      <td>-9.6967</td>\n",
              "      <td>0.63077</td>\n",
              "      <td>0.103900</td>\n",
              "      <td>-0.84053</td>\n",
              "      <td>-0.68762</td>\n",
              "      <td>-8.6499</td>\n",
              "      <td>-4.5781</td>\n",
              "      <td>0.187760</td>\n",
              "      <td>-0.44902</td>\n",
              "      <td>-1.0103</td>\n",
              "      <td>0.034483</td>\n",
              "      <td>0</td>\n",
              "      <td>subject1</td>\n",
              "    </tr>\n",
              "    <tr>\n",
              "      <th>1</th>\n",
              "      <td>2.3876</td>\n",
              "      <td>-9.5080</td>\n",
              "      <td>0.68389</td>\n",
              "      <td>0.085343</td>\n",
              "      <td>-0.83865</td>\n",
              "      <td>-0.68369</td>\n",
              "      <td>-8.6275</td>\n",
              "      <td>-4.3198</td>\n",
              "      <td>0.023595</td>\n",
              "      <td>-0.44902</td>\n",
              "      <td>-1.0103</td>\n",
              "      <td>0.034483</td>\n",
              "      <td>0</td>\n",
              "      <td>subject1</td>\n",
              "    </tr>\n",
              "    <tr>\n",
              "      <th>2</th>\n",
              "      <td>2.4086</td>\n",
              "      <td>-9.5674</td>\n",
              "      <td>0.68113</td>\n",
              "      <td>0.085343</td>\n",
              "      <td>-0.83865</td>\n",
              "      <td>-0.68369</td>\n",
              "      <td>-8.5055</td>\n",
              "      <td>-4.2772</td>\n",
              "      <td>0.275720</td>\n",
              "      <td>-0.44902</td>\n",
              "      <td>-1.0103</td>\n",
              "      <td>0.034483</td>\n",
              "      <td>0</td>\n",
              "      <td>subject1</td>\n",
              "    </tr>\n",
              "    <tr>\n",
              "      <th>3</th>\n",
              "      <td>2.1814</td>\n",
              "      <td>-9.4301</td>\n",
              "      <td>0.55031</td>\n",
              "      <td>0.085343</td>\n",
              "      <td>-0.83865</td>\n",
              "      <td>-0.68369</td>\n",
              "      <td>-8.6279</td>\n",
              "      <td>-4.3163</td>\n",
              "      <td>0.367520</td>\n",
              "      <td>-0.45686</td>\n",
              "      <td>-1.0082</td>\n",
              "      <td>0.025862</td>\n",
              "      <td>0</td>\n",
              "      <td>subject1</td>\n",
              "    </tr>\n",
              "    <tr>\n",
              "      <th>4</th>\n",
              "      <td>2.4173</td>\n",
              "      <td>-9.3889</td>\n",
              "      <td>0.71098</td>\n",
              "      <td>0.085343</td>\n",
              "      <td>-0.83865</td>\n",
              "      <td>-0.68369</td>\n",
              "      <td>-8.7008</td>\n",
              "      <td>-4.1459</td>\n",
              "      <td>0.407290</td>\n",
              "      <td>-0.45686</td>\n",
              "      <td>-1.0082</td>\n",
              "      <td>0.025862</td>\n",
              "      <td>0</td>\n",
              "      <td>subject1</td>\n",
              "    </tr>\n",
              "  </tbody>\n",
              "</table>\n",
              "</div>\n",
              "    <div class=\"colab-df-buttons\">\n",
              "\n",
              "  <div class=\"colab-df-container\">\n",
              "    <button class=\"colab-df-convert\" onclick=\"convertToInteractive('df-91620048-0b6a-48af-99ed-0a2ac6607a83')\"\n",
              "            title=\"Convert this dataframe to an interactive table.\"\n",
              "            style=\"display:none;\">\n",
              "\n",
              "  <svg xmlns=\"http://www.w3.org/2000/svg\" height=\"24px\" viewBox=\"0 -960 960 960\">\n",
              "    <path d=\"M120-120v-720h720v720H120Zm60-500h600v-160H180v160Zm220 220h160v-160H400v160Zm0 220h160v-160H400v160ZM180-400h160v-160H180v160Zm440 0h160v-160H620v160ZM180-180h160v-160H180v160Zm440 0h160v-160H620v160Z\"/>\n",
              "  </svg>\n",
              "    </button>\n",
              "\n",
              "  <style>\n",
              "    .colab-df-container {\n",
              "      display:flex;\n",
              "      gap: 12px;\n",
              "    }\n",
              "\n",
              "    .colab-df-convert {\n",
              "      background-color: #E8F0FE;\n",
              "      border: none;\n",
              "      border-radius: 50%;\n",
              "      cursor: pointer;\n",
              "      display: none;\n",
              "      fill: #1967D2;\n",
              "      height: 32px;\n",
              "      padding: 0 0 0 0;\n",
              "      width: 32px;\n",
              "    }\n",
              "\n",
              "    .colab-df-convert:hover {\n",
              "      background-color: #E2EBFA;\n",
              "      box-shadow: 0px 1px 2px rgba(60, 64, 67, 0.3), 0px 1px 3px 1px rgba(60, 64, 67, 0.15);\n",
              "      fill: #174EA6;\n",
              "    }\n",
              "\n",
              "    .colab-df-buttons div {\n",
              "      margin-bottom: 4px;\n",
              "    }\n",
              "\n",
              "    [theme=dark] .colab-df-convert {\n",
              "      background-color: #3B4455;\n",
              "      fill: #D2E3FC;\n",
              "    }\n",
              "\n",
              "    [theme=dark] .colab-df-convert:hover {\n",
              "      background-color: #434B5C;\n",
              "      box-shadow: 0px 1px 3px 1px rgba(0, 0, 0, 0.15);\n",
              "      filter: drop-shadow(0px 1px 2px rgba(0, 0, 0, 0.3));\n",
              "      fill: #FFFFFF;\n",
              "    }\n",
              "  </style>\n",
              "\n",
              "    <script>\n",
              "      const buttonEl =\n",
              "        document.querySelector('#df-91620048-0b6a-48af-99ed-0a2ac6607a83 button.colab-df-convert');\n",
              "      buttonEl.style.display =\n",
              "        google.colab.kernel.accessAllowed ? 'block' : 'none';\n",
              "\n",
              "      async function convertToInteractive(key) {\n",
              "        const element = document.querySelector('#df-91620048-0b6a-48af-99ed-0a2ac6607a83');\n",
              "        const dataTable =\n",
              "          await google.colab.kernel.invokeFunction('convertToInteractive',\n",
              "                                                    [key], {});\n",
              "        if (!dataTable) return;\n",
              "\n",
              "        const docLinkHtml = 'Like what you see? Visit the ' +\n",
              "          '<a target=\"_blank\" href=https://colab.research.google.com/notebooks/data_table.ipynb>data table notebook</a>'\n",
              "          + ' to learn more about interactive tables.';\n",
              "        element.innerHTML = '';\n",
              "        dataTable['output_type'] = 'display_data';\n",
              "        await google.colab.output.renderOutput(dataTable, element);\n",
              "        const docLink = document.createElement('div');\n",
              "        docLink.innerHTML = docLinkHtml;\n",
              "        element.appendChild(docLink);\n",
              "      }\n",
              "    </script>\n",
              "  </div>\n",
              "\n",
              "\n",
              "<div id=\"df-de95c664-e64e-4f43-9f5b-f6ee10c5ec03\">\n",
              "  <button class=\"colab-df-quickchart\" onclick=\"quickchart('df-de95c664-e64e-4f43-9f5b-f6ee10c5ec03')\"\n",
              "            title=\"Suggest charts\"\n",
              "            style=\"display:none;\">\n",
              "\n",
              "<svg xmlns=\"http://www.w3.org/2000/svg\" height=\"24px\"viewBox=\"0 0 24 24\"\n",
              "     width=\"24px\">\n",
              "    <g>\n",
              "        <path d=\"M19 3H5c-1.1 0-2 .9-2 2v14c0 1.1.9 2 2 2h14c1.1 0 2-.9 2-2V5c0-1.1-.9-2-2-2zM9 17H7v-7h2v7zm4 0h-2V7h2v10zm4 0h-2v-4h2v4z\"/>\n",
              "    </g>\n",
              "</svg>\n",
              "  </button>\n",
              "\n",
              "<style>\n",
              "  .colab-df-quickchart {\n",
              "      --bg-color: #E8F0FE;\n",
              "      --fill-color: #1967D2;\n",
              "      --hover-bg-color: #E2EBFA;\n",
              "      --hover-fill-color: #174EA6;\n",
              "      --disabled-fill-color: #AAA;\n",
              "      --disabled-bg-color: #DDD;\n",
              "  }\n",
              "\n",
              "  [theme=dark] .colab-df-quickchart {\n",
              "      --bg-color: #3B4455;\n",
              "      --fill-color: #D2E3FC;\n",
              "      --hover-bg-color: #434B5C;\n",
              "      --hover-fill-color: #FFFFFF;\n",
              "      --disabled-bg-color: #3B4455;\n",
              "      --disabled-fill-color: #666;\n",
              "  }\n",
              "\n",
              "  .colab-df-quickchart {\n",
              "    background-color: var(--bg-color);\n",
              "    border: none;\n",
              "    border-radius: 50%;\n",
              "    cursor: pointer;\n",
              "    display: none;\n",
              "    fill: var(--fill-color);\n",
              "    height: 32px;\n",
              "    padding: 0;\n",
              "    width: 32px;\n",
              "  }\n",
              "\n",
              "  .colab-df-quickchart:hover {\n",
              "    background-color: var(--hover-bg-color);\n",
              "    box-shadow: 0 1px 2px rgba(60, 64, 67, 0.3), 0 1px 3px 1px rgba(60, 64, 67, 0.15);\n",
              "    fill: var(--button-hover-fill-color);\n",
              "  }\n",
              "\n",
              "  .colab-df-quickchart-complete:disabled,\n",
              "  .colab-df-quickchart-complete:disabled:hover {\n",
              "    background-color: var(--disabled-bg-color);\n",
              "    fill: var(--disabled-fill-color);\n",
              "    box-shadow: none;\n",
              "  }\n",
              "\n",
              "  .colab-df-spinner {\n",
              "    border: 2px solid var(--fill-color);\n",
              "    border-color: transparent;\n",
              "    border-bottom-color: var(--fill-color);\n",
              "    animation:\n",
              "      spin 1s steps(1) infinite;\n",
              "  }\n",
              "\n",
              "  @keyframes spin {\n",
              "    0% {\n",
              "      border-color: transparent;\n",
              "      border-bottom-color: var(--fill-color);\n",
              "      border-left-color: var(--fill-color);\n",
              "    }\n",
              "    20% {\n",
              "      border-color: transparent;\n",
              "      border-left-color: var(--fill-color);\n",
              "      border-top-color: var(--fill-color);\n",
              "    }\n",
              "    30% {\n",
              "      border-color: transparent;\n",
              "      border-left-color: var(--fill-color);\n",
              "      border-top-color: var(--fill-color);\n",
              "      border-right-color: var(--fill-color);\n",
              "    }\n",
              "    40% {\n",
              "      border-color: transparent;\n",
              "      border-right-color: var(--fill-color);\n",
              "      border-top-color: var(--fill-color);\n",
              "    }\n",
              "    60% {\n",
              "      border-color: transparent;\n",
              "      border-right-color: var(--fill-color);\n",
              "    }\n",
              "    80% {\n",
              "      border-color: transparent;\n",
              "      border-right-color: var(--fill-color);\n",
              "      border-bottom-color: var(--fill-color);\n",
              "    }\n",
              "    90% {\n",
              "      border-color: transparent;\n",
              "      border-bottom-color: var(--fill-color);\n",
              "    }\n",
              "  }\n",
              "</style>\n",
              "\n",
              "  <script>\n",
              "    async function quickchart(key) {\n",
              "      const quickchartButtonEl =\n",
              "        document.querySelector('#' + key + ' button');\n",
              "      quickchartButtonEl.disabled = true;  // To prevent multiple clicks.\n",
              "      quickchartButtonEl.classList.add('colab-df-spinner');\n",
              "      try {\n",
              "        const charts = await google.colab.kernel.invokeFunction(\n",
              "            'suggestCharts', [key], {});\n",
              "      } catch (error) {\n",
              "        console.error('Error during call to suggestCharts:', error);\n",
              "      }\n",
              "      quickchartButtonEl.classList.remove('colab-df-spinner');\n",
              "      quickchartButtonEl.classList.add('colab-df-quickchart-complete');\n",
              "    }\n",
              "    (() => {\n",
              "      let quickchartButtonEl =\n",
              "        document.querySelector('#df-de95c664-e64e-4f43-9f5b-f6ee10c5ec03 button');\n",
              "      quickchartButtonEl.style.display =\n",
              "        google.colab.kernel.accessAllowed ? 'block' : 'none';\n",
              "    })();\n",
              "  </script>\n",
              "</div>\n",
              "    </div>\n",
              "  </div>\n"
            ]
          },
          "metadata": {},
          "execution_count": 2
        }
      ]
    },
    {
      "cell_type": "code",
      "source": [
        "data.dtypes"
      ],
      "metadata": {
        "id": "Gm4ZPyaIJaCO",
        "outputId": "3e43bece-73c9-46fc-e522-2e7122477abb",
        "colab": {
          "base_uri": "https://localhost:8080/"
        }
      },
      "execution_count": null,
      "outputs": [
        {
          "output_type": "execute_result",
          "data": {
            "text/plain": [
              "alx         float64\n",
              "aly         float64\n",
              "alz         float64\n",
              "glx         float64\n",
              "gly         float64\n",
              "glz         float64\n",
              "arx         float64\n",
              "ary         float64\n",
              "arz         float64\n",
              "grx         float64\n",
              "gry         float64\n",
              "grz         float64\n",
              "Activity      int64\n",
              "subject      object\n",
              "dtype: object"
            ]
          },
          "metadata": {},
          "execution_count": 12
        }
      ]
    },
    {
      "cell_type": "markdown",
      "source": [
        "Split into Training and Testing\n",
        "\n",
        "\n",
        "---\n",
        "\n"
      ],
      "metadata": {
        "id": "fsXyNf6bHRTf"
      }
    },
    {
      "cell_type": "code",
      "source": [
        "from sklearn.model_selection import train_test_split\n",
        "\n",
        "# Grouping by 'subject' and creating a list of dataframes, one per group\n",
        "grouped = data.groupby('subject')\n",
        "grouped_data = [group for _, group in grouped]\n",
        "\n",
        "# Splitting the groups into training and test sets with an 80:20 ratio\n",
        "train_groups, test_groups = train_test_split(grouped_data, test_size=0.2, random_state=42)\n",
        "\n",
        "# Reassembling the training and test datasets from the groups\n",
        "train_df = pd.concat(train_groups)\n",
        "test_df = pd.concat(test_groups)\n",
        "\n",
        "# Displaying the shape of the training and test sets\n",
        "train_df_shape = train_df.shape\n",
        "test_df_shape = test_df.shape\n",
        "\n",
        "train_df_shape, test_df_shape"
      ],
      "metadata": {
        "id": "6jANd9lUHMsQ",
        "outputId": "40109f7d-4fb8-4c2f-8987-431d6fbfb96a",
        "colab": {
          "base_uri": "https://localhost:8080/"
        }
      },
      "execution_count": 3,
      "outputs": [
        {
          "output_type": "execute_result",
          "data": {
            "text/plain": [
              "((753408, 14), (228865, 14))"
            ]
          },
          "metadata": {},
          "execution_count": 3
        }
      ]
    },
    {
      "cell_type": "markdown",
      "source": [
        "Normalization\n",
        "\n",
        "---\n",
        "\n"
      ],
      "metadata": {
        "id": "nGHu70cSJFTL"
      }
    },
    {
      "cell_type": "code",
      "source": [
        "from sklearn.preprocessing import StandardScaler\n",
        "\n",
        "# Identifying numerical columns (excluding 'subject' and 'Activity')\n",
        "numerical_columns = train_df.select_dtypes(include=['float64']).columns.tolist()\n",
        "\n",
        "# Initializing the StandardScaler\n",
        "scaler = StandardScaler()\n",
        "\n",
        "# Fitting the scaler to the training data and transforming both training and test data\n",
        "train_df[numerical_columns] = scaler.fit_transform(train_df[numerical_columns])\n",
        "test_df[numerical_columns] = scaler.transform(test_df[numerical_columns])\n",
        "\n",
        "# Checking the first few rows of the normalized training data\n",
        "print(train_df.shape)\n",
        "train_df.head()"
      ],
      "metadata": {
        "id": "3XCkC65bHMf8",
        "outputId": "ea34480c-1dae-4cbf-959e-0bbb615c3247",
        "colab": {
          "base_uri": "https://localhost:8080/",
          "height": 224
        }
      },
      "execution_count": 16,
      "outputs": [
        {
          "output_type": "stream",
          "name": "stdout",
          "text": [
            "(753408, 14)\n"
          ]
        },
        {
          "output_type": "execute_result",
          "data": {
            "text/plain": [
              "             alx       aly       alz       glx       gly       glz       arx  \\\n",
              "161280 -0.223286 -0.015393  0.477025 -0.908619  0.214578  1.202391 -0.274480   \n",
              "161281 -0.247704  0.005929  0.454236 -0.919642  0.187503  1.187993 -0.303219   \n",
              "161282 -0.242066 -0.010736  0.465339 -0.919642  0.187503  1.187993 -0.244074   \n",
              "161283 -0.269487  0.036954  0.437693 -0.919642  0.187503  1.187993 -0.283765   \n",
              "161284 -0.231693 -0.008528  0.449884 -0.934326  0.247080  1.173594 -0.298031   \n",
              "\n",
              "             ary       arz       grx       gry       grz  Activity   subject  \n",
              "161280 -0.415446 -0.151829 -1.317774  0.047213 -0.190632         0  subject2  \n",
              "161281 -0.417230 -0.154615 -1.317774  0.047213 -0.190632         0  subject2  \n",
              "161282 -0.427635 -0.126097 -1.310525  0.043526 -0.171167         0  subject2  \n",
              "161283 -0.447419 -0.178098 -1.310525  0.043526 -0.171167         0  subject2  \n",
              "161284 -0.449221 -0.183567 -1.310525  0.043526 -0.171167         0  subject2  "
            ],
            "text/html": [
              "\n",
              "  <div id=\"df-e4440397-d09c-4469-a6a6-ed85974a6067\" class=\"colab-df-container\">\n",
              "    <div>\n",
              "<style scoped>\n",
              "    .dataframe tbody tr th:only-of-type {\n",
              "        vertical-align: middle;\n",
              "    }\n",
              "\n",
              "    .dataframe tbody tr th {\n",
              "        vertical-align: top;\n",
              "    }\n",
              "\n",
              "    .dataframe thead th {\n",
              "        text-align: right;\n",
              "    }\n",
              "</style>\n",
              "<table border=\"1\" class=\"dataframe\">\n",
              "  <thead>\n",
              "    <tr style=\"text-align: right;\">\n",
              "      <th></th>\n",
              "      <th>alx</th>\n",
              "      <th>aly</th>\n",
              "      <th>alz</th>\n",
              "      <th>glx</th>\n",
              "      <th>gly</th>\n",
              "      <th>glz</th>\n",
              "      <th>arx</th>\n",
              "      <th>ary</th>\n",
              "      <th>arz</th>\n",
              "      <th>grx</th>\n",
              "      <th>gry</th>\n",
              "      <th>grz</th>\n",
              "      <th>Activity</th>\n",
              "      <th>subject</th>\n",
              "    </tr>\n",
              "  </thead>\n",
              "  <tbody>\n",
              "    <tr>\n",
              "      <th>161280</th>\n",
              "      <td>-0.223286</td>\n",
              "      <td>-0.015393</td>\n",
              "      <td>0.477025</td>\n",
              "      <td>-0.908619</td>\n",
              "      <td>0.214578</td>\n",
              "      <td>1.202391</td>\n",
              "      <td>-0.274480</td>\n",
              "      <td>-0.415446</td>\n",
              "      <td>-0.151829</td>\n",
              "      <td>-1.317774</td>\n",
              "      <td>0.047213</td>\n",
              "      <td>-0.190632</td>\n",
              "      <td>0</td>\n",
              "      <td>subject2</td>\n",
              "    </tr>\n",
              "    <tr>\n",
              "      <th>161281</th>\n",
              "      <td>-0.247704</td>\n",
              "      <td>0.005929</td>\n",
              "      <td>0.454236</td>\n",
              "      <td>-0.919642</td>\n",
              "      <td>0.187503</td>\n",
              "      <td>1.187993</td>\n",
              "      <td>-0.303219</td>\n",
              "      <td>-0.417230</td>\n",
              "      <td>-0.154615</td>\n",
              "      <td>-1.317774</td>\n",
              "      <td>0.047213</td>\n",
              "      <td>-0.190632</td>\n",
              "      <td>0</td>\n",
              "      <td>subject2</td>\n",
              "    </tr>\n",
              "    <tr>\n",
              "      <th>161282</th>\n",
              "      <td>-0.242066</td>\n",
              "      <td>-0.010736</td>\n",
              "      <td>0.465339</td>\n",
              "      <td>-0.919642</td>\n",
              "      <td>0.187503</td>\n",
              "      <td>1.187993</td>\n",
              "      <td>-0.244074</td>\n",
              "      <td>-0.427635</td>\n",
              "      <td>-0.126097</td>\n",
              "      <td>-1.310525</td>\n",
              "      <td>0.043526</td>\n",
              "      <td>-0.171167</td>\n",
              "      <td>0</td>\n",
              "      <td>subject2</td>\n",
              "    </tr>\n",
              "    <tr>\n",
              "      <th>161283</th>\n",
              "      <td>-0.269487</td>\n",
              "      <td>0.036954</td>\n",
              "      <td>0.437693</td>\n",
              "      <td>-0.919642</td>\n",
              "      <td>0.187503</td>\n",
              "      <td>1.187993</td>\n",
              "      <td>-0.283765</td>\n",
              "      <td>-0.447419</td>\n",
              "      <td>-0.178098</td>\n",
              "      <td>-1.310525</td>\n",
              "      <td>0.043526</td>\n",
              "      <td>-0.171167</td>\n",
              "      <td>0</td>\n",
              "      <td>subject2</td>\n",
              "    </tr>\n",
              "    <tr>\n",
              "      <th>161284</th>\n",
              "      <td>-0.231693</td>\n",
              "      <td>-0.008528</td>\n",
              "      <td>0.449884</td>\n",
              "      <td>-0.934326</td>\n",
              "      <td>0.247080</td>\n",
              "      <td>1.173594</td>\n",
              "      <td>-0.298031</td>\n",
              "      <td>-0.449221</td>\n",
              "      <td>-0.183567</td>\n",
              "      <td>-1.310525</td>\n",
              "      <td>0.043526</td>\n",
              "      <td>-0.171167</td>\n",
              "      <td>0</td>\n",
              "      <td>subject2</td>\n",
              "    </tr>\n",
              "  </tbody>\n",
              "</table>\n",
              "</div>\n",
              "    <div class=\"colab-df-buttons\">\n",
              "\n",
              "  <div class=\"colab-df-container\">\n",
              "    <button class=\"colab-df-convert\" onclick=\"convertToInteractive('df-e4440397-d09c-4469-a6a6-ed85974a6067')\"\n",
              "            title=\"Convert this dataframe to an interactive table.\"\n",
              "            style=\"display:none;\">\n",
              "\n",
              "  <svg xmlns=\"http://www.w3.org/2000/svg\" height=\"24px\" viewBox=\"0 -960 960 960\">\n",
              "    <path d=\"M120-120v-720h720v720H120Zm60-500h600v-160H180v160Zm220 220h160v-160H400v160Zm0 220h160v-160H400v160ZM180-400h160v-160H180v160Zm440 0h160v-160H620v160ZM180-180h160v-160H180v160Zm440 0h160v-160H620v160Z\"/>\n",
              "  </svg>\n",
              "    </button>\n",
              "\n",
              "  <style>\n",
              "    .colab-df-container {\n",
              "      display:flex;\n",
              "      gap: 12px;\n",
              "    }\n",
              "\n",
              "    .colab-df-convert {\n",
              "      background-color: #E8F0FE;\n",
              "      border: none;\n",
              "      border-radius: 50%;\n",
              "      cursor: pointer;\n",
              "      display: none;\n",
              "      fill: #1967D2;\n",
              "      height: 32px;\n",
              "      padding: 0 0 0 0;\n",
              "      width: 32px;\n",
              "    }\n",
              "\n",
              "    .colab-df-convert:hover {\n",
              "      background-color: #E2EBFA;\n",
              "      box-shadow: 0px 1px 2px rgba(60, 64, 67, 0.3), 0px 1px 3px 1px rgba(60, 64, 67, 0.15);\n",
              "      fill: #174EA6;\n",
              "    }\n",
              "\n",
              "    .colab-df-buttons div {\n",
              "      margin-bottom: 4px;\n",
              "    }\n",
              "\n",
              "    [theme=dark] .colab-df-convert {\n",
              "      background-color: #3B4455;\n",
              "      fill: #D2E3FC;\n",
              "    }\n",
              "\n",
              "    [theme=dark] .colab-df-convert:hover {\n",
              "      background-color: #434B5C;\n",
              "      box-shadow: 0px 1px 3px 1px rgba(0, 0, 0, 0.15);\n",
              "      filter: drop-shadow(0px 1px 2px rgba(0, 0, 0, 0.3));\n",
              "      fill: #FFFFFF;\n",
              "    }\n",
              "  </style>\n",
              "\n",
              "    <script>\n",
              "      const buttonEl =\n",
              "        document.querySelector('#df-e4440397-d09c-4469-a6a6-ed85974a6067 button.colab-df-convert');\n",
              "      buttonEl.style.display =\n",
              "        google.colab.kernel.accessAllowed ? 'block' : 'none';\n",
              "\n",
              "      async function convertToInteractive(key) {\n",
              "        const element = document.querySelector('#df-e4440397-d09c-4469-a6a6-ed85974a6067');\n",
              "        const dataTable =\n",
              "          await google.colab.kernel.invokeFunction('convertToInteractive',\n",
              "                                                    [key], {});\n",
              "        if (!dataTable) return;\n",
              "\n",
              "        const docLinkHtml = 'Like what you see? Visit the ' +\n",
              "          '<a target=\"_blank\" href=https://colab.research.google.com/notebooks/data_table.ipynb>data table notebook</a>'\n",
              "          + ' to learn more about interactive tables.';\n",
              "        element.innerHTML = '';\n",
              "        dataTable['output_type'] = 'display_data';\n",
              "        await google.colab.output.renderOutput(dataTable, element);\n",
              "        const docLink = document.createElement('div');\n",
              "        docLink.innerHTML = docLinkHtml;\n",
              "        element.appendChild(docLink);\n",
              "      }\n",
              "    </script>\n",
              "  </div>\n",
              "\n",
              "\n",
              "<div id=\"df-36f25aed-98e2-4fca-bfbf-1b2cbf7c673f\">\n",
              "  <button class=\"colab-df-quickchart\" onclick=\"quickchart('df-36f25aed-98e2-4fca-bfbf-1b2cbf7c673f')\"\n",
              "            title=\"Suggest charts\"\n",
              "            style=\"display:none;\">\n",
              "\n",
              "<svg xmlns=\"http://www.w3.org/2000/svg\" height=\"24px\"viewBox=\"0 0 24 24\"\n",
              "     width=\"24px\">\n",
              "    <g>\n",
              "        <path d=\"M19 3H5c-1.1 0-2 .9-2 2v14c0 1.1.9 2 2 2h14c1.1 0 2-.9 2-2V5c0-1.1-.9-2-2-2zM9 17H7v-7h2v7zm4 0h-2V7h2v10zm4 0h-2v-4h2v4z\"/>\n",
              "    </g>\n",
              "</svg>\n",
              "  </button>\n",
              "\n",
              "<style>\n",
              "  .colab-df-quickchart {\n",
              "      --bg-color: #E8F0FE;\n",
              "      --fill-color: #1967D2;\n",
              "      --hover-bg-color: #E2EBFA;\n",
              "      --hover-fill-color: #174EA6;\n",
              "      --disabled-fill-color: #AAA;\n",
              "      --disabled-bg-color: #DDD;\n",
              "  }\n",
              "\n",
              "  [theme=dark] .colab-df-quickchart {\n",
              "      --bg-color: #3B4455;\n",
              "      --fill-color: #D2E3FC;\n",
              "      --hover-bg-color: #434B5C;\n",
              "      --hover-fill-color: #FFFFFF;\n",
              "      --disabled-bg-color: #3B4455;\n",
              "      --disabled-fill-color: #666;\n",
              "  }\n",
              "\n",
              "  .colab-df-quickchart {\n",
              "    background-color: var(--bg-color);\n",
              "    border: none;\n",
              "    border-radius: 50%;\n",
              "    cursor: pointer;\n",
              "    display: none;\n",
              "    fill: var(--fill-color);\n",
              "    height: 32px;\n",
              "    padding: 0;\n",
              "    width: 32px;\n",
              "  }\n",
              "\n",
              "  .colab-df-quickchart:hover {\n",
              "    background-color: var(--hover-bg-color);\n",
              "    box-shadow: 0 1px 2px rgba(60, 64, 67, 0.3), 0 1px 3px 1px rgba(60, 64, 67, 0.15);\n",
              "    fill: var(--button-hover-fill-color);\n",
              "  }\n",
              "\n",
              "  .colab-df-quickchart-complete:disabled,\n",
              "  .colab-df-quickchart-complete:disabled:hover {\n",
              "    background-color: var(--disabled-bg-color);\n",
              "    fill: var(--disabled-fill-color);\n",
              "    box-shadow: none;\n",
              "  }\n",
              "\n",
              "  .colab-df-spinner {\n",
              "    border: 2px solid var(--fill-color);\n",
              "    border-color: transparent;\n",
              "    border-bottom-color: var(--fill-color);\n",
              "    animation:\n",
              "      spin 1s steps(1) infinite;\n",
              "  }\n",
              "\n",
              "  @keyframes spin {\n",
              "    0% {\n",
              "      border-color: transparent;\n",
              "      border-bottom-color: var(--fill-color);\n",
              "      border-left-color: var(--fill-color);\n",
              "    }\n",
              "    20% {\n",
              "      border-color: transparent;\n",
              "      border-left-color: var(--fill-color);\n",
              "      border-top-color: var(--fill-color);\n",
              "    }\n",
              "    30% {\n",
              "      border-color: transparent;\n",
              "      border-left-color: var(--fill-color);\n",
              "      border-top-color: var(--fill-color);\n",
              "      border-right-color: var(--fill-color);\n",
              "    }\n",
              "    40% {\n",
              "      border-color: transparent;\n",
              "      border-right-color: var(--fill-color);\n",
              "      border-top-color: var(--fill-color);\n",
              "    }\n",
              "    60% {\n",
              "      border-color: transparent;\n",
              "      border-right-color: var(--fill-color);\n",
              "    }\n",
              "    80% {\n",
              "      border-color: transparent;\n",
              "      border-right-color: var(--fill-color);\n",
              "      border-bottom-color: var(--fill-color);\n",
              "    }\n",
              "    90% {\n",
              "      border-color: transparent;\n",
              "      border-bottom-color: var(--fill-color);\n",
              "    }\n",
              "  }\n",
              "</style>\n",
              "\n",
              "  <script>\n",
              "    async function quickchart(key) {\n",
              "      const quickchartButtonEl =\n",
              "        document.querySelector('#' + key + ' button');\n",
              "      quickchartButtonEl.disabled = true;  // To prevent multiple clicks.\n",
              "      quickchartButtonEl.classList.add('colab-df-spinner');\n",
              "      try {\n",
              "        const charts = await google.colab.kernel.invokeFunction(\n",
              "            'suggestCharts', [key], {});\n",
              "      } catch (error) {\n",
              "        console.error('Error during call to suggestCharts:', error);\n",
              "      }\n",
              "      quickchartButtonEl.classList.remove('colab-df-spinner');\n",
              "      quickchartButtonEl.classList.add('colab-df-quickchart-complete');\n",
              "    }\n",
              "    (() => {\n",
              "      let quickchartButtonEl =\n",
              "        document.querySelector('#df-36f25aed-98e2-4fca-bfbf-1b2cbf7c673f button');\n",
              "      quickchartButtonEl.style.display =\n",
              "        google.colab.kernel.accessAllowed ? 'block' : 'none';\n",
              "    })();\n",
              "  </script>\n",
              "</div>\n",
              "    </div>\n",
              "  </div>\n"
            ]
          },
          "metadata": {},
          "execution_count": 16
        }
      ]
    },
    {
      "cell_type": "markdown",
      "source": [
        "Sequence Creation & Addressing Class Imbalance\n",
        "\n",
        "---\n",
        "\n"
      ],
      "metadata": {
        "id": "HxcAKE4SOK9W"
      }
    },
    {
      "cell_type": "code",
      "source": [
        "# Sequence creation for Testing data with undersampling\n",
        "import random\n",
        "\n",
        "np.random.seed(42)\n",
        "\n",
        "sensor_columns = ['alx','aly','alz','glx','gly','glz','arx','ary','arz','grx','gry','grz']\n",
        "\n",
        "def create_sequences(data, sequence_length=100, train = True):\n",
        "    sequences = []\n",
        "    output = []\n",
        "    for i in range(0, len(data) - sequence_length + 1, sequence_length):\n",
        "        sequence = data[i:i + sequence_length]\n",
        "        # Assuming 'Activity' is the target variable and is the same for the entire sequence\n",
        "        label = sequence['Activity'].max()\n",
        "\n",
        "        # Undersampling label 0\n",
        "        if (label != 0 or random.random() > 0.95) and train == True: # undersample the 0 labels where there is a 95% chance to drop\n",
        "          sequences.append(sequence[sensor_columns].values)\n",
        "          output.append(label)\n",
        "\n",
        "    return np.array(sequences), np.array(output)\n",
        "\n",
        "# Creating sequences for training and test data\n",
        "X_train, y_train = create_sequences(train_df, sequence_length=100, train = True)\n",
        "X_test, y_test = create_sequences(test_df, sequence_length=100, train = False)\n",
        "\n",
        "X_train.shape, y_train.shape, X_test.shape, y_test.shape"
      ],
      "metadata": {
        "id": "gmFJpMgtOSCq",
        "outputId": "9c16fbf7-7a9f-4fd3-d7f9-ce809fc89e24",
        "colab": {
          "base_uri": "https://localhost:8080/"
        }
      },
      "execution_count": 5,
      "outputs": [
        {
          "output_type": "execute_result",
          "data": {
            "text/plain": [
              "((2420, 100, 12), (2420,), (0,), (0,))"
            ]
          },
          "metadata": {},
          "execution_count": 5
        }
      ]
    },
    {
      "cell_type": "code",
      "source": [
        "import seaborn as sns\n",
        "# for i in range(len(y_train)):\n",
        "#   print(y_train[i])\n",
        "\n",
        "sns.histplot(y_train)"
      ],
      "metadata": {
        "colab": {
          "base_uri": "https://localhost:8080/",
          "height": 448
        },
        "id": "3E4f_hh-wrnr",
        "outputId": "3e72408e-c93f-4cb8-b235-906eba080f78"
      },
      "execution_count": 6,
      "outputs": [
        {
          "output_type": "execute_result",
          "data": {
            "text/plain": [
              "<Axes: ylabel='Count'>"
            ]
          },
          "metadata": {},
          "execution_count": 6
        },
        {
          "output_type": "display_data",
          "data": {
            "text/plain": [
              "<Figure size 640x480 with 1 Axes>"
            ],
            "image/png": "[encoded data removed]"
          },
          "metadata": {}
        }
      ]
    },
    {
      "cell_type": "markdown",
      "source": [
        "Training data looks more balanced now"
      ],
      "metadata": {
        "id": "zVXQ8msP56MP"
      }
    },
    {
      "cell_type": "markdown",
      "source": [
        "Run LSTM Model\n",
        "\n",
        "---\n",
        "\n"
      ],
      "metadata": {
        "id": "AdV1O1g67gJT"
      }
    },
    {
      "cell_type": "code",
      "source": [
        "import torch as t\n",
        "import torch.nn as nn\n",
        "from torch.optim import Adam\n",
        "from torch.utils.data import TensorDataset, DataLoader\n",
        "\n",
        "# Hyperparameter Tuning\n",
        "input_size = 12 # feature size of data\n",
        "#hidden_size = 256  # Number of hidden units in LSTM\n",
        "num_classes = 13  # For three-class classification\n",
        "epochs = 10\n",
        "learning_rate = 0.001\n",
        "batch_size = 300\n",
        "#landa = 0.001  # Regularization term (lambda)"
      ],
      "metadata": {
        "id": "3XS5mZ2N7qUJ"
      },
      "execution_count": 7,
      "outputs": []
    },
    {
      "cell_type": "markdown",
      "source": [
        "- will need to tune parameters\n",
        "- not sure what to set as hidden_size"
      ],
      "metadata": {
        "id": "3pZ_pSbQ_eFZ"
      }
    },
    {
      "cell_type": "code",
      "source": [
        "# Data preparation\n",
        "train_dataset = TensorDataset(t.tensor(X_train, dtype=t.float32), t.tensor(y_train, dtype=t.long))\n",
        "train_data_loader = DataLoader(train_dataset, batch_size=batch_size, shuffle=True)\n",
        "\n",
        "test_dataset = TensorDataset(t.tensor(X_test, dtype=t.float32), t.tensor(y_test, dtype=t.long))\n",
        "test_data_loader = DataLoader(test_dataset, batch_size=batch_size, shuffle=False)"
      ],
      "metadata": {
        "id": "QW54s86v8nFf"
      },
      "execution_count": 8,
      "outputs": []
    },
    {
      "cell_type": "code",
      "source": [
        "# lstm layers and additional fully connected layer\n",
        "lstm_layer1 = nn.LSTM(input_size, 8, batch_first=True)\n",
        "dropout1 = nn.Dropout(0.5)  # Add dropout between lstm layers\n",
        "fc_layer1 = nn.Linear(8, 4)  # Additional fully connected layer\n",
        "\n",
        "# Dropout layer\n",
        "dropout_fc = nn.Dropout(0.2)  # Add dropout between fully connected layers\n",
        "\n",
        "# Final output layer\n",
        "fc_layer2 = nn.Linear(4, num_classes)\n",
        "\n",
        "# Activation function\n",
        "relu = nn.ReLU()\n",
        "\n",
        "# Loss function and optimizer\n",
        "loss_fn = nn.CrossEntropyLoss()\n",
        "optimizer = Adam(list(lstm_layer1.parameters()) + list(fc_layer1.parameters()) + list(fc_layer2.parameters()), lr=learning_rate)"
      ],
      "metadata": {
        "id": "h10Gi_519fBC"
      },
      "execution_count": 9,
      "outputs": []
    },
    {
      "cell_type": "code",
      "source": [
        "# Lists to store accuracies and losses\n",
        "train_accuracy_list = []\n",
        "validation_accuracy_list = []\n",
        "train_loss_list = []\n",
        "\n",
        "# Training loop\n",
        "for epoch in range(epochs):\n",
        "    if epoch % 10 == 0:\n",
        "        learning_rate *= 0.9  # Learning rate scheduling\n",
        "\n",
        "    per_epoch_loss_list = []\n",
        "    for X, Y in train_data_loader:\n",
        "        # Forward pass through layers\n",
        "        out, _ = lstm_layer1(X)\n",
        "        out = dropout1(out)  # Apply dropout between lstm layers\n",
        "        # out = out[:, -1, :]  # Get the last output of the sequence\n",
        "        out, _ = t.max(out, dim=1) # Get the max output of the sequence\n",
        "        out = relu(fc_layer1(out))  # Apply activation function after first fully connected layer\n",
        "        out = dropout_fc(out)  # Apply dropout between fully connected layers\n",
        "        out = fc_layer2(out)\n",
        "\n",
        "        # Regularization\n",
        "        # l2_term = sum([(w ** 2).sum() for w in list(lstm_layer1.parameters()) + list(lstm_layer2.parameters()) + list(fc_layer1.parameters()) + list(fc_layer2.parameters())])\n",
        "        # loss = loss_fn(out, Y) + landa * l2_term\n",
        "        loss = loss_fn(out, Y)\n",
        "\n",
        "        per_epoch_loss_list.append(loss.item())\n",
        "\n",
        "        # Backward pass and optimization\n",
        "        optimizer.zero_grad()\n",
        "        loss.backward()\n",
        "        optimizer.step()\n",
        "\n",
        "    # Evaluation on training and validation data\n",
        "    lstm_layer1.eval()\n",
        "    fc_layer1.eval()\n",
        "    fc_layer2.eval()\n",
        "\n",
        "    with t.no_grad():\n",
        "        # Training data\n",
        "        train_correct, train_total = 0, 0\n",
        "        for X, Y in train_data_loader:\n",
        "            out, _ = lstm_layer1(X)\n",
        "            out = dropout1(out)  # Apply dropout between RNN layers\n",
        "            #out = out[:, -1, :] # Get the last output of the sequence\n",
        "            out, _ = t.max(out, dim=1) # Get the max output of the sequence\n",
        "            out = relu(fc_layer1(out))\n",
        "            out = dropout_fc(out)  # Apply dropout between fully connected layers\n",
        "            out = fc_layer2(out)\n",
        "            _, predicted = t.max(out.data, 1)\n",
        "            train_total += Y.size(0)\n",
        "            train_correct += (predicted == Y).sum().item()\n",
        "\n",
        "        train_accuracy = 100 * train_correct / train_total\n",
        "\n",
        "        # Validation data\n",
        "        validation_correct, validation_total = 0, 0\n",
        "        for X, Y in test_data_loader:\n",
        "            out, _ = lstm_layer1(X)\n",
        "            out = dropout1(out)  # Apply dropout between lstm layers\n",
        "            #out = out[:, -1, :] # Get the last output of the sequence\n",
        "            out, _ = t.max(out, dim=1) # Get the max output of the sequence\n",
        "            out = relu(fc_layer1(out))\n",
        "            out = dropout_fc(out)  # Apply dropout between fully connected layers\n",
        "            out = fc_layer2(out)\n",
        "            _, predicted = t.max(out.data, 1)\n",
        "            validation_total += Y.size(0)\n",
        "            validation_correct += (predicted == Y).sum().item()\n",
        "        validation_accuracy = 100 * validation_correct / validation_total\n",
        "\n",
        "        # Print accuracy for the current epoch\n",
        "        print(f'Epoch {epoch}/{epochs} ---> Train Accuracy: {train_accuracy}%, Validation Accuracy: {validation_accuracy}%')\n",
        "\n",
        "        # Append accuracy values to lists\n",
        "        train_accuracy_list.append(train_accuracy)\n",
        "        validation_accuracy_list.append(validation_accuracy)\n",
        "\n",
        "    # Calculate and append the average loss for the epoch\n",
        "        train_loss_list.append(sum(per_epoch_loss_list) / len(per_epoch_loss_list))\n",
        "\n",
        "    # Set the model back to train mode\n",
        "    lstm_layer1.train()\n",
        "    # rnn_layer2.train()\n",
        "    fc_layer1.train()\n",
        "    fc_layer2.train()"
      ],
      "metadata": {
        "id": "jkLxUk_f-QIG"
      },
      "execution_count": 15,
      "outputs": []
    },
    {
      "cell_type": "markdown",
      "source": [
        "- Not sure if we want only the last output of the sequence if we initially generated it using the max\n",
        "(out = out[:, -1, :])"
      ],
      "metadata": {
        "id": "SLY9WwGx_mCg"
      }
    },
    {
      "cell_type": "code",
      "source": [
        "# Evaluation on training and validation data\n",
        "lstm_layer1.eval()\n",
        "fc_layer1.eval()\n",
        "fc_layer2.eval()\n",
        "\n",
        "with t.no_grad():\n",
        "  # Training data\n",
        "  train_correct, train_total = 0, 0\n",
        "  for X, Y in train_data_loader:\n",
        "    out, _ = lstm_layer1(X)\n",
        "    out = dropout1(out)  # Apply dropout between RNN layers\n",
        "#    out = out[:, -1, :] # Get the last output of the sequence\n",
        "    out, _ = t.max(out, dim=1) # Get the max output of the sequence\n",
        "    out = relu(fc_layer1(out))\n",
        "    out = dropout_fc(out)  # Apply dropout between fully connected layers\n",
        "    out = fc_layer2(out)\n",
        "    _, predicted = t.max(out.data, 1)\n",
        "    train_total += Y.size(0)\n",
        "    train_correct += (predicted == Y).sum().item()\n",
        "\n",
        "  train_accuracy = 100 * train_correct / train_total"
      ],
      "metadata": {
        "id": "8_RKDE1N-oSn"
      },
      "execution_count": null,
      "outputs": []
    },
    {
      "cell_type": "code",
      "source": [
        " # Validation data\n",
        "validation_correct, validation_total = 0, 0\n",
        "for X, Y in test_data_loader:\n",
        "  out, _ = lstm_layer1(X)\n",
        "  out = dropout1(out)  # Apply dropout between lstm layers\n",
        "#  out = out[:, -1, :] # Get the last output of the sequence\n",
        "  out, _ = t.max(out, dim=1) # Get the max output of the sequence\n",
        "  out = relu(fc_layer1(out))\n",
        "  out = dropout_fc(out)  # Apply dropout between fully connected layers\n",
        "  out = fc_layer2(out)\n",
        "  _, predicted = t.max(out.data, 1)\n",
        "  validation_total += Y.size(0)\n",
        "  validation_correct += (predicted == Y).sum().item()\n",
        "\n",
        "validation_accuracy = 100 * validation_correct / validation_total"
      ],
      "metadata": {
        "id": "FqD2AQNE-72C",
        "outputId": "e601eb6e-c8a6-4ca2-d270-40af97b9792b",
        "colab": {
          "base_uri": "https://localhost:8080/",
          "height": 211
        }
      },
      "execution_count": null,
      "outputs": [
        {
          "output_type": "error",
          "ename": "ZeroDivisionError",
          "evalue": "ignored",
          "traceback": [
            "\u001b[0;31m---------------------------------------------------------------------------\u001b[0m",
            "\u001b[0;31mZeroDivisionError\u001b[0m                         Traceback (most recent call last)",
            "\u001b[0;32m<ipython-input-31-d3c24ad3e9e1>\u001b[0m in \u001b[0;36m<cell line: 15>\u001b[0;34m()\u001b[0m\n\u001b[1;32m     13\u001b[0m  \u001b[0mvalidation_correct\u001b[0m \u001b[0;34m+=\u001b[0m \u001b[0;34m(\u001b[0m\u001b[0mpredicted\u001b[0m \u001b[0;34m==\u001b[0m \u001b[0mY\u001b[0m\u001b[0;34m)\u001b[0m\u001b[0;34m.\u001b[0m\u001b[0msum\u001b[0m\u001b[0;34m(\u001b[0m\u001b[0;34m)\u001b[0m\u001b[0;34m.\u001b[0m\u001b[0mitem\u001b[0m\u001b[0;34m(\u001b[0m\u001b[0;34m)\u001b[0m\u001b[0;34m\u001b[0m\u001b[0;34m\u001b[0m\u001b[0m\n\u001b[1;32m     14\u001b[0m \u001b[0;34m\u001b[0m\u001b[0m\n\u001b[0;32m---> 15\u001b[0;31m \u001b[0mvalidation_accuracy\u001b[0m \u001b[0;34m=\u001b[0m \u001b[0;36m100\u001b[0m \u001b[0;34m*\u001b[0m \u001b[0mvalidation_correct\u001b[0m \u001b[0;34m/\u001b[0m \u001b[0mvalidation_total\u001b[0m\u001b[0;34m\u001b[0m\u001b[0;34m\u001b[0m\u001b[0m\n\u001b[0m",
            "\u001b[0;31mZeroDivisionError\u001b[0m: division by zero"
          ]
        }
      ]
    },
    {
      "cell_type": "code",
      "source": [
        " # Print accuracy for the current epoch\n",
        "print(f'Epoch {epoch}/{epochs} ---> Train Accuracy: {train_accuracy}%, Validation Accuracy: {validation_accuracy}%')\n",
        "\n",
        "# Append accuracy values to lists\n",
        "train_accuracy_list.append(train_accuracy)\n",
        "validation_accuracy_list.append(validation_accuracy)"
      ],
      "metadata": {
        "colab": {
          "base_uri": "https://localhost:8080/"
        },
        "id": "ASAUtqcq--v7",
        "outputId": "b8ac8a1b-0e4b-4126-9de6-cbe2b9840f56"
      },
      "execution_count": null,
      "outputs": [
        {
          "output_type": "stream",
          "name": "stdout",
          "text": [
            "Epoch 9/10 ---> Train Accuracy: 97.00499168053244%, Validation Accuracy: 67.70104895104895%\n"
          ]
        }
      ]
    },
    {
      "cell_type": "markdown",
      "source": [
        "- Using the last observation of sequence: Train Accuracy: 68.8%, Validation Accuracy: 27.4%\n",
        "- Using max observation of sequence Train Accuracy: 95.8%, Validation Accuracy: 56.4%"
      ],
      "metadata": {
        "id": "VhFt1BMhCKTM"
      }
    },
    {
      "cell_type": "code",
      "source": [
        "# Calculate and append the average loss for the epoch\n",
        "train_loss_list.append(sum(per_epoch_loss_list) / len(per_epoch_loss_list))\n",
        "\n",
        "# Set the model back to train mode\n",
        "lstm_layer1.train()\n",
        "# lstm_layer2.train()\n",
        "fc_layer1.train()\n",
        "fc_layer2.train()"
      ],
      "metadata": {
        "colab": {
          "base_uri": "https://localhost:8080/"
        },
        "id": "PUJvBo7g7hqy",
        "outputId": "335a44f1-6aeb-4f26-e35f-a387caa1477b"
      },
      "execution_count": null,
      "outputs": [
        {
          "output_type": "execute_result",
          "data": {
            "text/plain": [
              "Linear(in_features=256, out_features=13, bias=True)"
            ]
          },
          "metadata": {},
          "execution_count": 16
        }
      ]
    },
    {
      "cell_type": "code",
      "source": [
        "import matplotlib.pyplot as plt\n",
        "\n",
        "# Plot training and validation accuracy over epochs\n",
        "plt.plot([i for i in range(len(train_accuracy_list))], train_accuracy_list, label=\"Train\")\n",
        "plt.plot([i for i in range(len(validation_accuracy_list))], validation_accuracy_list, label=\"Validation\")\n",
        "plt.legend(loc=\"upper left\")\n",
        "plt.xlabel('Epochs')\n",
        "plt.ylabel('Accuracy')\n",
        "plt.show()"
      ],
      "metadata": {
        "colab": {
          "base_uri": "https://localhost:8080/",
          "height": 449
        },
        "id": "HAT3SVgQ_Giv",
        "outputId": "45c1e8a8-ea4c-4e94-a5e1-7c0ad2817d9d"
      },
      "execution_count": null,
      "outputs": [
        {
          "output_type": "display_data",
          "data": {
            "text/plain": [
              "<Figure size 640x480 with 1 Axes>"
            ],
            "image/png": "[encoded data removed]"
          },
          "metadata": {}
        }
      ]
    }
  ]
}